{
  "nbformat": 4,
  "nbformat_minor": 0,
  "metadata": {
    "colab": {
      "provenance": []
    },
    "kernelspec": {
      "name": "python3",
      "display_name": "Python 3"
    },
    "language_info": {
      "name": "python"
    }
  },
  "cells": [
    {
      "cell_type": "markdown",
      "source": [
        "# Import libraries and data"
      ],
      "metadata": {
        "id": "aURQauL-YfYN"
      }
    },
    {
      "cell_type": "code",
      "execution_count": null,
      "metadata": {
        "id": "ApBsUJ3lUY9r"
      },
      "outputs": [],
      "source": [
        "import numpy as np, pandas as pd, seaborn as sns\n",
        "import random, os, zipfile, sys, time, re\n",
        "import matplotlib.pyplot as plt\n",
        "import tensorflow as tf\n",
        "import tensorflow.keras as keras"
      ]
    },
    {
      "cell_type": "code",
      "source": [
        "from PIL import Image\n",
        "from keras.layers import Input, Conv2D, Dense, Flatten, MaxPooling2D, Input, GlobalAveragePooling2D, Dropout\n",
        "from keras.models import Model, Sequential\n",
        "from keras.preprocessing import image\n",
        "from keras.utils import to_categorical\n",
        "from keras.layers import Lambda\n",
        "from keras.callbacks import EarlyStopping\n",
        "from sklearn.model_selection import train_test_split\n",
        "from sklearn.metrics import classification_report"
      ],
      "metadata": {
        "id": "NoRX5_X4MEWN"
      },
      "execution_count": null,
      "outputs": []
    },
    {
      "cell_type": "code",
      "source": [
        "from google.colab import drive\n",
        "drive.mount('/content/drive/')"
      ],
      "metadata": {
        "id": "yKB9WxMSWkp-",
        "collapsed": true
      },
      "execution_count": null,
      "outputs": []
    },
    {
      "cell_type": "code",
      "source": [
        "os.makedirs('garbage')"
      ],
      "metadata": {
        "id": "qdQyRmqFw9NQ"
      },
      "execution_count": null,
      "outputs": []
    },
    {
      "cell_type": "code",
      "source": [
        "!unzip /content/drive/MyDrive/capstone/unsplitted.zip -d /content/garbage"
      ],
      "metadata": {
        "id": "bsjgYZLXYKE7"
      },
      "execution_count": null,
      "outputs": []
    },
    {
      "cell_type": "markdown",
      "source": [
        "# Categorizing data to dataframe"
      ],
      "metadata": {
        "id": "N3J5hYgyVH_H"
      }
    },
    {
      "cell_type": "code",
      "source": [
        "base_path = \"/content/garbage/\"\n",
        "\n",
        "categories = {0: 'O_', 1: 'cardboard', 2: 'glass', 3: 'metal', 4: 'paper', 5: 'plastic'}"
      ],
      "metadata": {
        "id": "7r88TPr1U0Fj"
      },
      "execution_count": null,
      "outputs": []
    },
    {
      "cell_type": "code",
      "source": [
        "# Add class name prefix to filename. So for example \"/paper104.jpg\" become \"paper/paper104.jpg\"\n",
        "def classname(df, col):\n",
        "    df[col] = df[col].apply(lambda x: x[:re.search(\"\\d\",x).start()] + '/' + x)\n",
        "    return df\n",
        "\n",
        "filenames_list = []\n",
        "categories_list = []\n",
        "\n",
        "for category in categories:\n",
        "    filenames = os.listdir(base_path + categories[category])\n",
        "\n",
        "    filenames_list = filenames_list  +filenames\n",
        "    categories_list = categories_list + [category] * len(filenames)\n",
        "\n",
        "df = pd.DataFrame({\n",
        "    'filename': filenames_list,\n",
        "    'category': categories_list\n",
        "})\n",
        "\n",
        "df = classname(df, 'filename')\n",
        "df = df.sample(frac=1).reset_index(drop=True)"
      ],
      "metadata": {
        "id": "XVWStNR4lYLI"
      },
      "execution_count": null,
      "outputs": []
    },
    {
      "cell_type": "code",
      "source": [
        "print('Number of images:', len(df))\n",
        "print('Number of categories:', len(categories))\n",
        "df.head()"
      ],
      "metadata": {
        "id": "-oz3RXdnwz2D"
      },
      "execution_count": null,
      "outputs": []
    },
    {
      "cell_type": "markdown",
      "source": [
        "# Create model"
      ],
      "metadata": {
        "id": "Ua7Bzhq7zHxn"
      }
    },
    {
      "cell_type": "code",
      "source": [
        "import keras.applications.mobilenet_v2 as mobilenetv2\n",
        "\n",
        "mobilenetv2_layer = mobilenetv2.MobileNetV2(include_top = False,\n",
        "                                            input_shape = (224, 224, 3),\n",
        "                                            weights = 'imagenet')\n",
        "\n",
        "mobilenetv2_layer.trainable = False"
      ],
      "metadata": {
        "id": "h7Gec8fezEpF"
      },
      "execution_count": null,
      "outputs": []
    },
    {
      "cell_type": "code",
      "source": [
        "def mobilenetv2_preprocessing(img):\n",
        "  return mobilenetv2.preprocess_input(img)"
      ],
      "metadata": {
        "id": "tcfBU7woM4jg"
      },
      "execution_count": null,
      "outputs": []
    },
    {
      "cell_type": "code",
      "source": [
        "model = tf.keras.Sequential([\n",
        "    tf.keras.Input(shape = (224, 224, 3)),\n",
        "    Lambda(mobilenetv2_preprocessing),\n",
        "    mobilenetv2_layer,\n",
        "    tf.keras.layers.GlobalAveragePooling2D(),\n",
        "    tf.keras.layers.Dropout(0.2),\n",
        "    tf.keras.layers.Dense(len(categories), activation = 'softmax')\n",
        "])"
      ],
      "metadata": {
        "id": "qOKiXUEyzQ61"
      },
      "execution_count": null,
      "outputs": []
    },
    {
      "cell_type": "code",
      "source": [
        "model.compile(loss='categorical_crossentropy',\n",
        "              optimizer='adam',\n",
        "              metrics=['categorical_accuracy'])\n",
        "model.summary()"
      ],
      "metadata": {
        "id": "XpwjQwoyQwEA"
      },
      "execution_count": null,
      "outputs": []
    },
    {
      "cell_type": "code",
      "source": [
        "early_stop = EarlyStopping(patience = 2,\n",
        "                           verbose = 1,\n",
        "                           monitor='val_categorical_accuracy' ,\n",
        "                           mode='max',\n",
        "                           min_delta=0.001,\n",
        "                           restore_best_weights = True)\n",
        "callbacks = [early_stop]"
      ],
      "metadata": {
        "id": "AWjv1THFcJbd"
      },
      "execution_count": null,
      "outputs": []
    },
    {
      "cell_type": "markdown",
      "source": [
        "# Split data to train, test, val"
      ],
      "metadata": {
        "id": "GvEytLFazg2l"
      }
    },
    {
      "cell_type": "code",
      "source": [
        "df['category'] = df['category'].replace(categories)\n",
        "\n",
        "train_df, val_df = train_test_split(df, test_size=0.2, random_state=42)\n",
        "val_df, test_df = train_test_split(val_df, test_size=0.3, random_state=42)\n",
        "\n",
        "train_df = train_df.reset_index(drop=True)\n",
        "val_df = val_df.reset_index(drop=True)\n",
        "test_df = test_df.reset_index(drop=True)\n",
        "\n",
        "print('Train data size:', train_df.shape[0])\n",
        "print('Validation data size:', val_df.shape[0])\n",
        "print('Test data size:', test_df.shape[0])"
      ],
      "metadata": {
        "id": "nd_1KW8pzfCN"
      },
      "execution_count": null,
      "outputs": []
    },
    {
      "cell_type": "markdown",
      "source": [
        "# Train model"
      ],
      "metadata": {
        "id": "WReEcJqdzs7t"
      }
    },
    {
      "cell_type": "code",
      "source": [
        "train_datagen = image.ImageDataGenerator(\n",
        "    rotation_range=30,\n",
        "    shear_range=0.1,\n",
        "    zoom_range=0.3,\n",
        "    horizontal_flip=True,\n",
        "    vertical_flip = True,\n",
        "    width_shift_range=0.2,\n",
        "    height_shift_range=0.2)\n",
        "\n",
        "train_generator = train_datagen.flow_from_dataframe(\n",
        "    train_df,\n",
        "    base_path,\n",
        "    x_col='filename',\n",
        "    y_col='category',\n",
        "    target_size=(224, 224),\n",
        "    class_mode='categorical',\n",
        "    batch_size=64)"
      ],
      "metadata": {
        "id": "NMZwsnLbznV5"
      },
      "execution_count": null,
      "outputs": []
    },
    {
      "cell_type": "code",
      "source": [
        "val_datagen = image.ImageDataGenerator()\n",
        "\n",
        "val_generator = val_datagen.flow_from_dataframe(\n",
        "    val_df,\n",
        "    base_path,\n",
        "    x_col='filename',\n",
        "    y_col='category',\n",
        "    target_size=(224, 224),\n",
        "    class_mode='categorical',\n",
        "    batch_size=64)"
      ],
      "metadata": {
        "id": "XD94TkRjzyqA"
      },
      "execution_count": null,
      "outputs": []
    },
    {
      "cell_type": "code",
      "source": [
        "history = model.fit(train_generator,\n",
        "                    epochs = 15,\n",
        "                    validation_data = val_generator,\n",
        "                    validation_steps = val_df.shape[0]//64,\n",
        "                    steps_per_epoch = train_df.shape[0]//64,\n",
        "                    callbacks=callbacks)"
      ],
      "metadata": {
        "id": "k0MLKmZM0916"
      },
      "execution_count": null,
      "outputs": []
    },
    {
      "cell_type": "code",
      "source": [
        "model.save(\"model.h5\")"
      ],
      "metadata": {
        "id": "AAuDZZbQ1YUk"
      },
      "execution_count": null,
      "outputs": []
    },
    {
      "cell_type": "markdown",
      "source": [
        "# Visualize train and val loss and accuracy"
      ],
      "metadata": {
        "id": "QIrFTK2_1eUu"
      }
    },
    {
      "cell_type": "code",
      "source": [
        "fig, (ax1, ax2) = plt.subplots(2, 1)\n",
        "ax1.plot(history.history['loss'], color='b', label='Training loss')\n",
        "ax1.plot(history.history['val_loss'], color='r', label='Validation loss')\n",
        "ax1.legend()\n",
        "\n",
        "ax2.plot(history.history['categorical_accuracy'], color='b', label='Training accuracy')\n",
        "ax2.plot(history.history['val_categorical_accuracy'], color='r',label='Validation accuracy')\n",
        "ax2.legend()\n",
        "\n",
        "legend = plt.legend(loc='best')\n",
        "plt.tight_layout()\n",
        "plt.show()"
      ],
      "metadata": {
        "id": "x3jzfSEa1gpR"
      },
      "execution_count": null,
      "outputs": []
    },
    {
      "cell_type": "markdown",
      "source": [
        "# Evaluate model"
      ],
      "metadata": {
        "id": "ecFax_bu15CK"
      }
    },
    {
      "cell_type": "code",
      "source": [
        "test_datagen = image.ImageDataGenerator()\n",
        "\n",
        "test_generator = test_datagen.flow_from_dataframe(\n",
        "    dataframe=test_df,\n",
        "    directory=base_path,\n",
        "    x_col='filename',\n",
        "    y_col='category',\n",
        "    target_size=(224, 224),\n",
        "    color_mode='rgb',\n",
        "    class_mode='categorical',\n",
        "    batch_size=1,\n",
        "    shuffle=False)"
      ],
      "metadata": {
        "id": "qX0dW0o21574"
      },
      "execution_count": null,
      "outputs": []
    },
    {
      "cell_type": "code",
      "source": [
        "filenames = test_generator.filenames\n",
        "num_sample = len(filenames)\n",
        "\n",
        "_, accuracy = model.evaluate_generator(test_generator, num_sample)\n",
        "\n",
        "print('Accuracy on test set: ',  (accuracy * 100), '%')"
      ],
      "metadata": {
        "id": "azxYceXs16eb"
      },
      "execution_count": null,
      "outputs": []
    },
    {
      "cell_type": "code",
      "source": [
        "label_map = test_generator.class_indices\n",
        "label_map = dict((v,k) for k,v in label_map.items())\n",
        "print(label_map)"
      ],
      "metadata": {
        "id": "kO6Bl_YJ2CCP"
      },
      "execution_count": null,
      "outputs": []
    },
    {
      "cell_type": "code",
      "source": [
        "predicts = model.predict(test_generator, num_sample)\n",
        "predicts = predicts.argmax(1)\n",
        "predicts = [label_map[item] for item in predicts]\n",
        "labels = test_df['category'].to_numpy()\n",
        "\n",
        "print(classification_report(labels, predicts))"
      ],
      "metadata": {
        "id": "1Z0SqF8n2FLA"
      },
      "execution_count": null,
      "outputs": []
    },
    {
      "cell_type": "markdown",
      "source": [
        "# Trial predicting"
      ],
      "metadata": {
        "id": "Ag4BD0AL9c50"
      }
    },
    {
      "cell_type": "code",
      "source": [
        "from google.colab import files\n",
        "import cv2"
      ],
      "metadata": {
        "id": "M3mnvCFQ9Sla"
      },
      "execution_count": null,
      "outputs": []
    },
    {
      "cell_type": "code",
      "source": [
        "def load_image(image_path):\n",
        "    img = cv2.imread(image_path)\n",
        "    img = cv2.resize(img,(224,224))\n",
        "    img = np.reshape(img,[1,224,224,3])\n",
        "    return img"
      ],
      "metadata": {
        "id": "J_2kaAQjAMVM"
      },
      "execution_count": null,
      "outputs": []
    },
    {
      "cell_type": "code",
      "source": [
        "def predict_image(model, image_path):\n",
        "    img = load_image(image_path)\n",
        "    preds = model.predict(img)\n",
        "    preds = preds.argmax(1)\n",
        "    preds = [label_map[item] for item in preds]\n",
        "    plt.imshow(img[0])\n",
        "    plt.show()\n",
        "    print(preds)"
      ],
      "metadata": {
        "id": "xoNY_Sql9mAk"
      },
      "execution_count": null,
      "outputs": []
    },
    {
      "cell_type": "code",
      "source": [
        "predict_image(model, '/content/garbage/O_/O_13585.jpg')"
      ],
      "metadata": {
        "id": "OeY5UloS914K"
      },
      "execution_count": null,
      "outputs": []
    },
    {
      "cell_type": "code",
      "source": [
        "predict_image(model, '/content/garbage/metal/metal105.jpg')"
      ],
      "metadata": {
        "id": "-TKDvtHxhr6T"
      },
      "execution_count": null,
      "outputs": []
    }
  ]
}