{
  "nbformat": 4,
  "nbformat_minor": 0,
  "metadata": {
    "colab": {
      "provenance": []
    },
    "kernelspec": {
      "name": "python3",
      "display_name": "Python 3"
    },
    "accelerator": "GPU"
  },
  "cells": [
    {
      "metadata": {
        "id": "uj2kevKRM9ur"
      },
      "cell_type": "markdown",
      "source": [
        "# Import TensorFlow Lite"
      ]
    },
    {
      "metadata": {
        "id": "QSLFKa8GfDMr"
      },
      "cell_type": "code",
      "source": [
        "import tensorflow as tf"
      ],
      "execution_count": null,
      "outputs": []
    },
    {
      "cell_type": "code",
      "source": [
        "import keras.applications.mobilenet_v2 as mobilenetv2\n",
        "\n",
        "mobilenetv2_layer = mobilenetv2.MobileNetV2(include_top = False,\n",
        "                                            input_shape = (224, 224, 3),\n",
        "                                            weights = 'imagenet')\n",
        "\n",
        "# We don't want to train the imported weights\n",
        "mobilenetv2_layer.trainable = False"
      ],
      "metadata": {
        "id": "i8hj-sbcn9qn"
      },
      "execution_count": null,
      "outputs": []
    },
    {
      "metadata": {
        "id": "q3YAVYO2NCgz"
      },
      "cell_type": "markdown",
      "source": [
        "# Convert the Keras model to a TensorFlow Lite model and write the .tflite file"
      ]
    },
    {
      "metadata": {
        "id": "go_GFH86fLHr"
      },
      "cell_type": "code",
      "source": [
        "model = tf.keras.models.load_model('/content/model_7jun_dataunsplit.h5')\n",
        "converter = tf.lite.TFLiteConverter.from_keras_model(model)\n",
        "model = converter.convert()\n",
        "\n",
        "file = open('model.tflite', 'wb')\n",
        "file.write(model)"
      ],
      "execution_count": null,
      "outputs": []
    },
    {
      "metadata": {
        "id": "cGSRGCDFvQgX"
      },
      "cell_type": "markdown",
      "source": [
        "# Check the output data type and shape"
      ]
    },
    {
      "metadata": {
        "id": "-oow8h4znSYR"
      },
      "cell_type": "code",
      "source": [
        "import tensorflow as tf\n",
        "import numpy as np\n",
        "\n",
        "interpreter = tf.lite.Interpreter(model_path=\"model.tflite\")\n",
        "interpreter.allocate_tensors()\n",
        "\n",
        "print(interpreter.get_input_details()[0]['shape'])\n",
        "print(interpreter.get_input_details()[0]['dtype'])\n",
        "\n",
        "print(interpreter.get_output_details()[0]['shape'])\n",
        "print(interpreter.get_output_details()[0]['dtype'])\n"
      ],
      "execution_count": null,
      "outputs": []
    }
  ]
}